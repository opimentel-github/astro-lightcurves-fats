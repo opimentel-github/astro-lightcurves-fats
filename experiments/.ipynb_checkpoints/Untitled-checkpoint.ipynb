{
 "cells": [
  {
   "cell_type": "code",
   "execution_count": 1,
   "id": "087e7bf6",
   "metadata": {},
   "outputs": [],
   "source": [
    "import sys\n",
    "sys.path.append('../') # or just install the module\n",
    "sys.path.append('../../flaming-choripan') # or just install the module\n",
    "sys.path.append('../../astro-lightcurves-handler') # or just install the module"
   ]
  },
  {
   "cell_type": "code",
   "execution_count": 4,
   "id": "a5ad8a13",
   "metadata": {},
   "outputs": [
    {
     "name": "stdout",
     "output_type": "stream",
     "text": [
      "The autoreload extension is already loaded. To reload it, use:\n",
      "  %reload_ext autoreload\n",
      "==============================linear-fstw\n"
     ]
    },
    {
     "ename": "KeyError",
     "evalue": "'test'",
     "output_type": "error",
     "traceback": [
      "\u001b[0;31m---------------------------------------------------------------------------\u001b[0m",
      "\u001b[0;31mKeyError\u001b[0m                                  Traceback (most recent call last)",
      "\u001b[0;32m<ipython-input-4-baa5a9dbef10>\u001b[0m in \u001b[0;36m<module>\u001b[0;34m\u001b[0m\n\u001b[1;32m     36\u001b[0m     \u001b[0;32mfor\u001b[0m \u001b[0mtrain_config\u001b[0m \u001b[0;32min\u001b[0m \u001b[0;34m[\u001b[0m\u001b[0;34m'r'\u001b[0m\u001b[0;34m,\u001b[0m \u001b[0;34m's'\u001b[0m\u001b[0;34m,\u001b[0m \u001b[0;34m'r+s'\u001b[0m\u001b[0;34m]\u001b[0m\u001b[0;34m:\u001b[0m\u001b[0;34m\u001b[0m\u001b[0;34m\u001b[0m\u001b[0m\n\u001b[1;32m     37\u001b[0m         \u001b[0mrootdir\u001b[0m \u001b[0;34m=\u001b[0m \u001b[0;34mf'../save/exp=rf_eval~train_config={train_config}~mode={mode}/survey=alerceZTFv7.1~bands=gr~mode=onlySNe~method={method}'\u001b[0m\u001b[0;34m\u001b[0m\u001b[0;34m\u001b[0m\u001b[0m\n\u001b[0;32m---> 38\u001b[0;31m         \u001b[0mfiles\u001b[0m\u001b[0;34m,\u001b[0m \u001b[0mfiles_ids\u001b[0m \u001b[0;34m=\u001b[0m \u001b[0mgather_files_by_kfold\u001b[0m\u001b[0;34m(\u001b[0m\u001b[0mrootdir\u001b[0m\u001b[0;34m,\u001b[0m \u001b[0mkf\u001b[0m\u001b[0;34m,\u001b[0m \u001b[0meval_lcset_name\u001b[0m\u001b[0;34m)\u001b[0m\u001b[0;34m\u001b[0m\u001b[0;34m\u001b[0m\u001b[0m\n\u001b[0m\u001b[1;32m     39\u001b[0m         \u001b[0mclass_names\u001b[0m \u001b[0;34m=\u001b[0m \u001b[0mfiles\u001b[0m\u001b[0;34m[\u001b[0m\u001b[0;36m0\u001b[0m\u001b[0;34m]\u001b[0m\u001b[0;34m(\u001b[0m\u001b[0;34m)\u001b[0m\u001b[0;34m[\u001b[0m\u001b[0;34m'lcset_info'\u001b[0m\u001b[0;34m]\u001b[0m\u001b[0;34m[\u001b[0m\u001b[0;34m'class_names'\u001b[0m\u001b[0;34m]\u001b[0m\u001b[0;34m\u001b[0m\u001b[0;34m\u001b[0m\u001b[0m\n\u001b[1;32m     40\u001b[0m         \u001b[0mfeatures\u001b[0m \u001b[0;34m=\u001b[0m \u001b[0mfiles\u001b[0m\u001b[0;34m[\u001b[0m\u001b[0;36m0\u001b[0m\u001b[0;34m]\u001b[0m\u001b[0;34m(\u001b[0m\u001b[0;34m)\u001b[0m\u001b[0;34m[\u001b[0m\u001b[0;34m'features'\u001b[0m\u001b[0;34m]\u001b[0m\u001b[0;34m\u001b[0m\u001b[0;34m\u001b[0m\u001b[0m\n",
      "\u001b[0;32m~/tesis/flaming-choripan/flamingchoripan/files.py\u001b[0m in \u001b[0;36mgather_files_by_kfold\u001b[0;34m(rootdir, kf, kf_set, id_key, key_key_separator, key_value_separator, fext, kf_str, create_dir)\u001b[0m\n\u001b[1;32m    430\u001b[0m \t)\n\u001b[1;32m    431\u001b[0m         \u001b[0;32mif\u001b[0m \u001b[0mkf\u001b[0m\u001b[0;34m==\u001b[0m\u001b[0;34m'.'\u001b[0m\u001b[0;34m:\u001b[0m \u001b[0;31m# gather all!\u001b[0m\u001b[0;34m\u001b[0m\u001b[0;34m\u001b[0m\u001b[0m\n\u001b[0;32m--> 432\u001b[0;31m                 \u001b[0mkfs\u001b[0m \u001b[0;34m=\u001b[0m \u001b[0mlist\u001b[0m\u001b[0;34m(\u001b[0m\u001b[0mkfold_rootdirs_dict\u001b[0m\u001b[0;34m[\u001b[0m\u001b[0mkf_set\u001b[0m\u001b[0;34m]\u001b[0m\u001b[0;34m.\u001b[0m\u001b[0mkeys\u001b[0m\u001b[0;34m(\u001b[0m\u001b[0;34m)\u001b[0m\u001b[0;34m)\u001b[0m\u001b[0;34m\u001b[0m\u001b[0;34m\u001b[0m\u001b[0m\n\u001b[0m\u001b[1;32m    433\u001b[0m                 \u001b[0mfiles\u001b[0m \u001b[0;34m=\u001b[0m \u001b[0;34m[\u001b[0m\u001b[0;34m]\u001b[0m\u001b[0;34m\u001b[0m\u001b[0;34m\u001b[0m\u001b[0m\n\u001b[1;32m    434\u001b[0m                 \u001b[0mfiles_ids\u001b[0m \u001b[0;34m=\u001b[0m \u001b[0;34m[\u001b[0m\u001b[0;34m]\u001b[0m\u001b[0;34m\u001b[0m\u001b[0;34m\u001b[0m\u001b[0m\n",
      "\u001b[0;31mKeyError\u001b[0m: 'test'"
     ]
    }
   ],
   "source": [
    "%load_ext autoreload\n",
    "%autoreload 2\n",
    "import numpy as np\n",
    "from flamingchoripan.files import search_for_filedirs, gather_files_by_kfold\n",
    "from flamingchoripan.cuteplots.cm_plots import plot_custom_confusion_matrix\n",
    "import matplotlib.pyplot as plt\n",
    "from flamingchoripan.datascience.xerror import XError\n",
    "from IPython.display import display\n",
    "import pandas as pd\n",
    "from nested_dict import nested_dict\n",
    "\n",
    "def cat_drop_duplicates(dfs):\n",
    "    df = pd.concat(dfs, axis='rows')\n",
    "    df = df.reset_index()\n",
    "    df = df.drop_duplicates()\n",
    "    df = df.set_index('index')\n",
    "    return df\n",
    "    \n",
    "mode = 'all' # all sne\n",
    "methods = [\n",
    "    'linear-fstw',\n",
    "    'bspline-fstw',\n",
    "    #'spm-mle-fstw',\n",
    "    'spm-mcmc-fstw',\n",
    "    #'spm-mle-estw',\n",
    "    'spm-mcmc-estw',\n",
    "]\n",
    "#methods = ['spm-mcmc-estw']\n",
    "eval_lcset_name = 'test'\n",
    "kf = '.'\n",
    "\n",
    "wrongs_df = nested_dict()\n",
    "for method in methods:\n",
    "    print('='*30+method)\n",
    "    #for train_config in ['r', 's']:\n",
    "    for train_config in ['r', 's', 'r+s']:\n",
    "        rootdir = f'../save/exp=rf_eval~train_config={train_config}~mode={mode}/survey=alerceZTFv7.1~bands=gr~mode=onlySNe~method={method}'\n",
    "        files, files_ids = gather_files_by_kfold(rootdir, kf, eval_lcset_name)\n",
    "        class_names = files[0]()['lcset_info']['class_names']\n",
    "        features = files[0]()['features']\n",
    "        cms = np.concatenate([f()['cm'][None] for f in files], axis=0)\n",
    "        dfs = [f()['wrongs_df'] for f in files]\n",
    "        df = cat_drop_duplicates(dfs)\n",
    "        wrongs_df[method][train_config] = df\n",
    "        \n",
    "wrongs_df = wrongs_df.to_dict()\n"
   ]
  },
  {
   "cell_type": "code",
   "execution_count": null,
   "id": "974c4441",
   "metadata": {},
   "outputs": [],
   "source": []
  },
  {
   "cell_type": "code",
   "execution_count": null,
   "id": "532c63e4",
   "metadata": {},
   "outputs": [],
   "source": []
  },
  {
   "cell_type": "code",
   "execution_count": null,
   "id": "ef377b10",
   "metadata": {},
   "outputs": [],
   "source": []
  },
  {
   "cell_type": "code",
   "execution_count": null,
   "id": "a07e946b",
   "metadata": {},
   "outputs": [],
   "source": []
  },
  {
   "cell_type": "code",
   "execution_count": null,
   "id": "d3cc2876",
   "metadata": {},
   "outputs": [],
   "source": []
  }
 ],
 "metadata": {
  "kernelspec": {
   "display_name": "Python 3",
   "language": "python",
   "name": "python3"
  },
  "language_info": {
   "codemirror_mode": {
    "name": "ipython",
    "version": 3
   },
   "file_extension": ".py",
   "mimetype": "text/x-python",
   "name": "python",
   "nbconvert_exporter": "python",
   "pygments_lexer": "ipython3",
   "version": "3.7.10"
  }
 },
 "nbformat": 4,
 "nbformat_minor": 5
}
