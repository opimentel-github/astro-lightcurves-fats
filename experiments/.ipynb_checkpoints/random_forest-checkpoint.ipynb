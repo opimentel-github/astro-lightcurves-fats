{
 "cells": [
  {
   "cell_type": "code",
   "execution_count": 1,
   "metadata": {},
   "outputs": [],
   "source": [
    "import sys\n",
    "sys.path.append('../') # or just install the module\n",
    "sys.path.append('../../flaming-choripan') # or just install the module\n",
    "sys.path.append('../../astro-lightcurves-handler') # or just install the module"
   ]
  },
  {
   "cell_type": "code",
   "execution_count": 2,
   "metadata": {},
   "outputs": [
    {
     "name": "stdout",
     "output_type": "stream",
     "text": [
      "────────────────────────────────────────────────────────────────────────────────────────────────────\n",
      "found filedirs: (../../astro-lightcurves-handler/save)\n",
      "(0) - ../../astro-lightcurves-handler/save/alerceZTFv7.1/survey-alerceZTFv7.1_bands-gr_mode-onlySNe_kfid-0.splcds - 5.163[mbs]\n",
      "────────────────────────────────────────────────────────────────────────────────────────────────────\n",
      "filedirs after searching with filters: (../../astro-lightcurves-handler/save)\n",
      "(0) - ../../astro-lightcurves-handler/save/alerceZTFv7.1/survey-alerceZTFv7.1_bands-gr_mode-onlySNe_kfid-0.splcds - 5.163[mbs]\n",
      "────────────────────────────────────────────────────────────────────────────────────────────────────\n"
     ]
    }
   ],
   "source": [
    "from flamingchoripan.files import search_for_filedirs\n",
    "from lchandler import C_\n",
    "\n",
    "root_folder = '../../astro-lightcurves-handler/save'\n",
    "filedirs = search_for_filedirs(root_folder, fext=C_.EXT_SPLIT_LIGHTCURVE)"
   ]
  },
  {
   "cell_type": "code",
   "execution_count": 3,
   "metadata": {},
   "outputs": [
    {
     "name": "stdout",
     "output_type": "stream",
     "text": [
      "\u001b[34m> loading: ../../astro-lightcurves-handler/save/alerceZTFv7.1/survey-alerceZTFv7.1_bands-gr_mode-onlySNe_kfid-0.splcds\u001b[0m\n",
      "dict_keys(['data', 'survey', 'description', 'band_names', 'class_names', 'obs_is_flux'])\n",
      "dict_keys(['days', 'obs', 'obse', 'y', 'synthetic'])\n",
      "LCDataset:\n",
      "[raw - samples 2,047]\n",
      "(*) obs_samples: 65,174 - min_len: 6 - max_dur: 538.8[days] - p50_dur: 52.9[days]\n",
      "(g) obs_samples: 28,351 - min_len: 0 - max_dur: 538.8[days] - p50_dur: 38.9[days] - p50_cadence: 3.0[days]\n",
      "(r) obs_samples: 36,823 - min_len: 0 - max_dur: 538.8[days] - p50_dur: 50.9[days] - p50_cadence: 3.0[days]\n",
      "   |▏       | SLSN - 33/2,047 (1.61%)\n",
      "   |█████▉  | SNIa - 1,534/2,047 (74.94%)\n",
      "   |▍       | SNIbc - 103/2,047 (5.03%)\n",
      "   |█▍      | allSNII - 377/2,047 (18.42%)\n",
      "────────────────────────────────────────────────────────────────────────────────────────────────────\n",
      "[raw_train - samples 1,636]\n",
      "(*) obs_samples: 51,337 - min_len: 6 - max_dur: 443.9[days] - p50_dur: 52.9[days]\n",
      "(g) obs_samples: 22,311 - min_len: 0 - max_dur: 443.9[days] - p50_dur: 38.0[days] - p50_cadence: 3.0[days]\n",
      "(r) obs_samples: 29,026 - min_len: 0 - max_dur: 443.9[days] - p50_dur: 50.0[days] - p50_cadence: 3.0[days]\n",
      "   |▏       | SLSN - 26/1,636 (1.59%)\n",
      "   |██████  | SNIa - 1,227/1,636 (75.00%)\n",
      "   |▍       | SNIbc - 82/1,636 (5.01%)\n",
      "   |█▍      | allSNII - 301/1,636 (18.40%)\n",
      "────────────────────────────────────────────────────────────────────────────────────────────────────\n",
      "[raw_val - samples 411]\n",
      "(*) obs_samples: 13,837 - min_len: 6 - max_dur: 538.8[days] - p50_dur: 53.0[days]\n",
      "(g) obs_samples: 6,040 - min_len: 0 - max_dur: 538.8[days] - p50_dur: 39.1[days] - p50_cadence: 3.0[days]\n",
      "(r) obs_samples: 7,797 - min_len: 0 - max_dur: 538.8[days] - p50_dur: 51.9[days] - p50_cadence: 3.0[days]\n",
      "   |▏       | SLSN - 7/411 (1.70%)\n",
      "   |█████▉  | SNIa - 307/411 (74.70%)\n",
      "   |▍       | SNIbc - 21/411 (5.11%)\n",
      "   |█▍      | allSNII - 76/411 (18.49%)\n",
      "────────────────────────────────────────────────────────────────────────────────────────────────────\n",
      "[train - samples 1,634]\n",
      "(*) obs_samples: 50,689 - min_len: 6 - max_dur: 443.9[days] - p50_dur: 52.9[days]\n",
      "(g) obs_samples: 22,057 - min_len: 0 - max_dur: 443.9[days] - p50_dur: 38.0[days] - p50_cadence: 3.0[days]\n",
      "(r) obs_samples: 28,632 - min_len: 0 - max_dur: 443.9[days] - p50_dur: 50.0[days] - p50_cadence: 3.0[days]\n",
      "   |▏       | SLSN - 26/1,634 (1.59%)\n",
      "   |██████  | SNIa - 1,226/1,634 (75.03%)\n",
      "   |▍       | SNIbc - 82/1,634 (5.02%)\n",
      "   |█▍      | allSNII - 300/1,634 (18.36%)\n",
      "────────────────────────────────────────────────────────────────────────────────────────────────────\n",
      "[val - samples 410]\n",
      "(*) obs_samples: 13,553 - min_len: 5 - max_dur: 538.8[days] - p50_dur: 53.0[days]\n",
      "(g) obs_samples: 5,933 - min_len: 0 - max_dur: 538.8[days] - p50_dur: 39.0[days] - p50_cadence: 3.0[days]\n",
      "(r) obs_samples: 7,620 - min_len: 0 - max_dur: 538.8[days] - p50_dur: 51.9[days] - p50_cadence: 3.0[days]\n",
      "   |▏       | SLSN - 7/410 (1.71%)\n",
      "   |█████▉  | SNIa - 306/410 (74.63%)\n",
      "   |▍       | SNIbc - 21/410 (5.12%)\n",
      "   |█▍      | allSNII - 76/410 (18.54%)\n",
      "────────────────────────────────────────────────────────────────────────────────────────────────────\n",
      "\n"
     ]
    }
   ],
   "source": [
    "import numpy as np\n",
    "from flamingchoripan.files import load_pickle, save_pickle\n",
    "from flamingchoripan.files import get_dict_from_filedir\n",
    "from lchandler import C_\n",
    "\n",
    "def load_lcdataset(filename):\n",
    "    assert filename.split('.')[-1]==C_.EXT_SPLIT_LIGHTCURVE\n",
    "    return load_pickle(filename)\n",
    "\n",
    "filedir = '../../astro-lightcurves-handler/save/alerceZTFv5.1/survey-alerceZTFv5.1_bands-gr_mode-onlySNe_kfid-0.splcds'\n",
    "filedir = '../../astro-lightcurves-handler/save/alerceZTFv7.1/survey-alerceZTFv7.1_bands-gr_mode-onlySNe_kfid-0.splcds'\n",
    "\n",
    "filedic = get_dict_from_filedir(filedir)\n",
    "root_folder = filedic['*rootdir*']\n",
    "cfilename = filedic['*cfilename*']\n",
    "lcdataset = load_lcdataset(filedir)\n",
    "print(lcdataset['raw'].keys())\n",
    "print(lcdataset['raw'].get_random_lcobj(False).keys())\n",
    "print(lcdataset)"
   ]
  },
  {
   "cell_type": "code",
   "execution_count": 29,
   "metadata": {},
   "outputs": [],
   "source": [
    "import pandas as pd\n",
    "from imblearn.ensemble import BalancedRandomForestClassifier\n",
    "from sklearn.ensemble import RandomForestClassifier\n",
    "\n",
    "train_lcset_name = 'train'\n",
    "train_lcset = lcdataset[train_lcset_name]\n",
    "brf_kwargs = {\n",
    "    'max_depth':20,\n",
    "    #'n_classes':len(train_lcset.class_names),\n",
    "    #'n_informative':4,\n",
    "    #'weights':train_lcset.get_class_weights(),\n",
    "    #'random_state':0,\n",
    "}\n",
    "n = 10\n",
    "balanced_rfs = []\n",
    "for _ in range(n):\n",
    "    brf = BalancedRandomForestClassifier(**brf_kwargs)\n",
    "    #brf = RandomForestClassifier(**brf_kwargs)\n",
    "    root_folder = f'../save/{train_lcset.survey}'\n",
    "    x_df = pd.read_parquet(f'{root_folder}/{train_lcset_name}.x.parquet')\n",
    "    y_df = pd.read_parquet(f'{root_folder}/{train_lcset_name}.y.parquet')\n",
    "    features = list(x_df.columns)\n",
    "    brf.fit(x_df.values, y_df.values[...,0])\n",
    "    balanced_rfs.append(brf)"
   ]
  },
  {
   "cell_type": "code",
   "execution_count": 30,
   "metadata": {},
   "outputs": [
    {
     "name": "stdout",
     "output_type": "stream",
     "text": [
      "features[top10]:\n",
      "(1) - SPM_tau_rise_r: 0.03279082364168777\n",
      "(2) - SPM_t0_g: 0.027233852026906504\n",
      "(3) - LinearTrend_r: 0.02679373541109538\n",
      "(4) - LinearTrend_g: 0.025020012006928702\n",
      "(5) - SPM_gamma_r: 0.024259605973459775\n",
      "(6) - SPM_t0_r: 0.023096594149500146\n",
      "(7) - CAR_tau_r: 0.02298935021923227\n",
      "(8) - SPM_gamma_g: 0.022958635114254132\n",
      "(9) - SPM_tau_fall_g: 0.01946606306630795\n",
      "(10) - SPM_tau_rise_g: 0.017955290598287942\n"
     ]
    }
   ],
   "source": [
    "from flamingchoripan.datascience.statistics import TopRank\n",
    "\n",
    "rank = TopRank('features')\n",
    "for k in range(len(brf.feature_importances_)):\n",
    "    rank.add(features[k], brf.feature_importances_[k])\n",
    "rank.calcule_rank()\n",
    "print(rank)"
   ]
  },
  {
   "cell_type": "code",
   "execution_count": 31,
   "metadata": {},
   "outputs": [],
   "source": [
    "from flamingchoripan.datascience.metrics import get_all_metrics_c\n",
    "\n",
    "val_lcset_name = 'val'\n",
    "x_df = pd.read_parquet(f'{root_folder}/{val_lcset_name}.x.parquet')\n",
    "y_df = pd.read_parquet(f'{root_folder}/{val_lcset_name}.y.parquet')\n",
    "y_target = y_df.values[...,0]\n",
    "cms = []\n",
    "for brf in balanced_rfs:\n",
    "    y_pred = brf.predict(x_df.values)\n",
    "    #print(y_pred.shape,y_target.shape)\n",
    "    class_names = train_lcset.class_names\n",
    "    r, rr, cm = get_all_metrics_c(y_pred, y_target, class_names, pred_is_onehot=False)\n",
    "    cms.append(cm[None])\n",
    "    #print()"
   ]
  },
  {
   "cell_type": "code",
   "execution_count": 32,
   "metadata": {},
   "outputs": [
    {
     "name": "stdout",
     "output_type": "stream",
     "text": [
      "The autoreload extension is already loaded. To reload it, use:\n",
      "  %reload_ext autoreload\n"
     ]
    },
    {
     "data": {
      "text/plain": [
       "(<Figure size 480x400 with 2 Axes>,\n",
       " <matplotlib.axes._subplots.AxesSubplot at 0x7f00e7ac2e50>)"
      ]
     },
     "execution_count": 32,
     "metadata": {},
     "output_type": "execute_result"
    },
    {
     "data": {
      "image/png": "[encoded data removed]",
      "text/plain": [
       "<Figure size 480x400 with 2 Axes>"
      ]
     },
     "metadata": {
      "needs_background": "light"
     },
     "output_type": "display_data"
    }
   ],
   "source": [
    "%load_ext autoreload\n",
    "%autoreload 2\n",
    "from flamingchoripan.cuteplots.cm_plots import plot_custom_confusion_matrix\n",
    "\n",
    "new_order_classes = ['SNIa', 'SNIbc', 'allSNII', 'SLSN']\n",
    "plot_custom_confusion_matrix(np.concatenate(cms, axis=0), class_names, new_order_classes, figsize=(6,5))"
   ]
  }
 ],
 "metadata": {
  "kernelspec": {
   "display_name": "Python 3",
   "language": "python",
   "name": "python3"
  },
  "language_info": {
   "codemirror_mode": {
    "name": "ipython",
    "version": 3
   },
   "file_extension": ".py",
   "mimetype": "text/x-python",
   "name": "python",
   "nbconvert_exporter": "python",
   "pygments_lexer": "ipython3",
   "version": "3.7.9"
  }
 },
 "nbformat": 4,
 "nbformat_minor": 4
}
