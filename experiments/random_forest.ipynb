{
 "cells": [
  {
   "cell_type": "code",
   "execution_count": 1,
   "metadata": {},
   "outputs": [],
   "source": [
    "import sys\n",
    "sys.path.append('../') # or just install the module\n",
    "sys.path.append('../../flaming-choripan') # or just install the module\n",
    "sys.path.append('../../astro-lightcurves-handler') # or just install the module"
   ]
  },
  {
   "cell_type": "code",
   "execution_count": 2,
   "metadata": {},
   "outputs": [
    {
     "name": "stdout",
     "output_type": "stream",
     "text": [
      "────────────────────────────────────────────────────────────────────────────────────────────────────\n",
      "found filedirs: (../../surveys-save)\n",
      "(0) - ../../surveys-save/alerceZTFv7.1/survey-alerceZTFv7.1_bands-gr_mode-onlySNe_method-linear.splcds - 118.999[mbs]\n",
      "(1) - ../../surveys-save/alerceZTFv7.1/survey-alerceZTFv7.1_bands-gr_mode-onlySNe_method-bspline.splcds - 118.925[mbs]\n",
      "(2) - ../../surveys-save/alerceZTFv7.1/survey-alerceZTFv7.1_bands-gr_mode-onlySNe_method-curvefit.splcds - 125.594[mbs]\n",
      "(3) - ../../surveys-save/alerceZTFv7.1/survey-alerceZTFv7.1_bands-gr_mode-onlySNe_method-uniformprior.splcds - 128.792[mbs]\n",
      "(4) - ../../surveys-save/alerceZTFv7.1/survey-alerceZTFv7.1_bands-gr_mode-onlySNe.splcds - 6.286[mbs]\n",
      "────────────────────────────────────────────────────────────────────────────────────────────────────\n",
      "filedirs after searching with filters: (../../surveys-save)\n",
      "(0) - ../../surveys-save/alerceZTFv7.1/survey-alerceZTFv7.1_bands-gr_mode-onlySNe_method-linear.splcds - 118.999[mbs]\n",
      "(1) - ../../surveys-save/alerceZTFv7.1/survey-alerceZTFv7.1_bands-gr_mode-onlySNe_method-bspline.splcds - 118.925[mbs]\n",
      "(2) - ../../surveys-save/alerceZTFv7.1/survey-alerceZTFv7.1_bands-gr_mode-onlySNe_method-curvefit.splcds - 125.594[mbs]\n",
      "(3) - ../../surveys-save/alerceZTFv7.1/survey-alerceZTFv7.1_bands-gr_mode-onlySNe_method-uniformprior.splcds - 128.792[mbs]\n",
      "(4) - ../../surveys-save/alerceZTFv7.1/survey-alerceZTFv7.1_bands-gr_mode-onlySNe.splcds - 6.286[mbs]\n",
      "────────────────────────────────────────────────────────────────────────────────────────────────────\n"
     ]
    }
   ],
   "source": [
    "from flamingchoripan.files import search_for_filedirs\n",
    "from lchandler import C_\n",
    "\n",
    "root_folder = '../../surveys-save'\n",
    "filedirs = search_for_filedirs(root_folder, fext=C_.EXT_SPLIT_LIGHTCURVE)"
   ]
  },
  {
   "cell_type": "code",
   "execution_count": 3,
   "metadata": {},
   "outputs": [
    {
     "name": "stdout",
     "output_type": "stream",
     "text": [
      "\u001b[34m> loading: ../../surveys-save/alerceZTFv7.1/survey-alerceZTFv7.1_bands-gr_mode-onlySNe.splcds\u001b[0m\n",
      "dict_keys(['data', 'survey', 'description', 'band_names', 'class_names', 'obs_is_flux'])\n",
      "dict_keys(['days', 'obs', 'obse', 'y', 'synthetic'])\n",
      "LCDataset:\n",
      "[outliers - samples 10]\n",
      "(*) obs_samples: 541 - min_len: 14 - max_dur: 408.0[days] - dur(p50): 133.8[days] - cadence(p50): 1.0[days]\n",
      "(g) obs_samples: 260 - min_len: 6 - max_dur: 408.0[days] - dur(p50): 133.7[days] - cadence(p50): 3.0[days]\n",
      "(r) obs_samples: 281 - min_len: 8 - max_dur: 376.0[days] - dur(p50): 128.7[days] - cadence(p50): 3.0[days]\n",
      "   |█▌      | SLSN - 2/10 (20.00%)\n",
      "   |▊       | SNIa - 1/10 (10.00%)\n",
      "   |█▌      | SNIbc - 2/10 (20.00%)\n",
      "   |████    | allSNII - 5/10 (50.00%)\n",
      "────────────────────────────────────────────────────────────────────────────────────────────────────\n",
      "[faint - samples 44]\n",
      "(*) obs_samples: 990 - min_len: 7 - max_dur: 298.1[days] - dur(p50): 40.0[days] - cadence(p50): 1.0[days]\n",
      "(g) obs_samples: 409 - min_len: 0 - max_dur: 221.7[days] - dur(p50): 26.9[days] - cadence(p50): 2.9[days]\n",
      "(r) obs_samples: 581 - min_len: 4 - max_dur: 298.1[days] - dur(p50): 37.5[days] - cadence(p50): 3.0[days]\n",
      "   |█▎      | SLSN - 7/44 (15.91%)\n",
      "   |███▊    | SNIa - 21/44 (47.73%)\n",
      "   |▌       | SNIbc - 3/44 (6.82%)\n",
      "   |██▎     | allSNII - 13/44 (29.55%)\n",
      "────────────────────────────────────────────────────────────────────────────────────────────────────\n",
      "[raw - samples 1,944]\n",
      "(*) obs_samples: 53,443 - min_len: 6 - max_dur: 538.8[days] - dur(p50): 53.0[days] - cadence(p50): 1.0[days]\n",
      "(g) obs_samples: 23,607 - min_len: 0 - max_dur: 538.8[days] - dur(p50): 39.0[days] - cadence(p50): 3.0[days]\n",
      "(r) obs_samples: 29,836 - min_len: 0 - max_dur: 538.8[days] - dur(p50): 51.0[days] - cadence(p50): 3.0[days]\n",
      "   |        | SLSN - 22/1,944 (1.13%)\n",
      "   |██████  | SNIa - 1,479/1,944 (76.08%)\n",
      "   |▍       | SNIbc - 95/1,944 (4.89%)\n",
      "   |█▍      | allSNII - 348/1,944 (17.90%)\n",
      "────────────────────────────────────────────────────────────────────────────────────────────────────\n",
      "[train - samples 1,242]\n",
      "(*) obs_samples: 34,028 - min_len: 4 - max_dur: 444.7[days] - dur(p50): 52.0[days] - cadence(p50): 1.0[days]\n",
      "(g) obs_samples: 14,975 - min_len: 0 - max_dur: 443.9[days] - dur(p50): 38.1[days] - cadence(p50): 3.0[days]\n",
      "(r) obs_samples: 19,053 - min_len: 0 - max_dur: 443.9[days] - dur(p50): 49.9[days] - cadence(p50): 3.0[days]\n",
      "   |        | SLSN - 14/1,242 (1.13%)\n",
      "   |██████  | SNIa - 946/1,242 (76.17%)\n",
      "   |▍       | SNIbc - 60/1,242 (4.83%)\n",
      "   |█▍      | allSNII - 222/1,242 (17.87%)\n",
      "────────────────────────────────────────────────────────────────────────────────────────────────────\n",
      "[val - samples 309]\n",
      "(*) obs_samples: 8,603 - min_len: 6 - max_dur: 538.8[days] - dur(p50): 55.0[days] - cadence(p50): 1.1[days]\n",
      "(g) obs_samples: 3,820 - min_len: 0 - max_dur: 538.8[days] - dur(p50): 39.0[days] - cadence(p50): 3.0[days]\n",
      "(r) obs_samples: 4,783 - min_len: 0 - max_dur: 538.8[days] - dur(p50): 52.8[days] - cadence(p50): 3.0[days]\n",
      "   |        | SLSN - 3/309 (0.97%)\n",
      "   |██████  | SNIa - 236/309 (76.38%)\n",
      "   |▍       | SNIbc - 15/309 (4.85%)\n",
      "   |█▍      | allSNII - 55/309 (17.80%)\n",
      "────────────────────────────────────────────────────────────────────────────────────────────────────\n",
      "[test - samples 393]\n",
      "(*) obs_samples: 10,593 - min_len: 7 - max_dur: 344.1[days] - dur(p50): 54.0[days] - cadence(p50): 1.0[days]\n",
      "(g) obs_samples: 4,712 - min_len: 0 - max_dur: 324.1[days] - dur(p50): 40.9[days] - cadence(p50): 3.0[days]\n",
      "(r) obs_samples: 5,881 - min_len: 0 - max_dur: 342.0[days] - dur(p50): 52.8[days] - cadence(p50): 3.0[days]\n",
      "   |        | SLSN - 5/393 (1.27%)\n",
      "   |██████  | SNIa - 297/393 (75.57%)\n",
      "   |▍       | SNIbc - 20/393 (5.09%)\n",
      "   |█▍      | allSNII - 71/393 (18.07%)\n",
      "────────────────────────────────────────────────────────────────────────────────────────────────────\n",
      "[train+val - samples 1,551]\n",
      "(*) obs_samples: 42,631 - min_len: 4 - max_dur: 538.8[days] - dur(p50): 52.9[days] - cadence(p50): 1.0[days]\n",
      "(g) obs_samples: 18,795 - min_len: 0 - max_dur: 538.8[days] - dur(p50): 38.9[days] - cadence(p50): 3.0[days]\n",
      "(r) obs_samples: 23,836 - min_len: 0 - max_dur: 538.8[days] - dur(p50): 50.0[days] - cadence(p50): 3.0[days]\n",
      "   |        | SLSN - 17/1,551 (1.10%)\n",
      "   |██████  | SNIa - 1,182/1,551 (76.21%)\n",
      "   |▍       | SNIbc - 75/1,551 (4.84%)\n",
      "   |█▍      | allSNII - 277/1,551 (17.86%)\n",
      "────────────────────────────────────────────────────────────────────────────────────────────────────\n",
      "\n"
     ]
    }
   ],
   "source": [
    "import numpy as np\n",
    "from flamingchoripan.files import load_pickle, save_pickle\n",
    "from flamingchoripan.files import get_dict_from_filedir\n",
    "from lchandler import C_\n",
    "\n",
    "def load_lcdataset(filename):\n",
    "    assert filename.split('.')[-1]==C_.EXT_SPLIT_LIGHTCURVE\n",
    "    return load_pickle(filename)\n",
    "\n",
    "filedir = f'../../surveys-save/alerceZTFv7.1/survey-alerceZTFv7.1_bands-gr_mode-onlySNe.splcds'\n",
    "\n",
    "filedict = get_dict_from_filedir(filedir)\n",
    "root_folder = filedict['*rootdir*']\n",
    "cfilename = filedict['*cfilename*']\n",
    "survey = filedict['survey']\n",
    "lcdataset = load_lcdataset(filedir)\n",
    "print(lcdataset['raw'].keys())\n",
    "print(lcdataset['raw'].get_random_lcobj(False).keys())\n",
    "print(lcdataset)"
   ]
  },
  {
   "cell_type": "code",
   "execution_count": null,
   "metadata": {
    "scrolled": false
   },
   "outputs": [
    {
     "name": "stdout",
     "output_type": "stream",
     "text": [
      "\u001b[34m> loading: ../../surveys-save/alerceZTFv7.1/survey-alerceZTFv7.1_bands-gr_mode-onlySNe_method-linear.splcds\u001b[0m\n",
      "100%|██████████| 50/50 [01:21,  1.63s/it, training id: 49]\n"
     ]
    },
    {
     "data": {
      "image/png": "[encoded data removed]",
      "text/plain": [
       "<Figure size 480x400 with 2 Axes>"
      ]
     },
     "metadata": {
      "needs_background": "light"
     },
     "output_type": "display_data"
    },
    {
     "name": "stdout",
     "output_type": "stream",
     "text": [
      " 16%|█▌        | 8/50 [01:29, 11.76s/it, training id: 7]"
     ]
    }
   ],
   "source": [
    "import numpy as np\n",
    "from flamingchoripan.files import load_pickle, save_pickle\n",
    "from flamingchoripan.files import get_dict_from_filedir\n",
    "from lchandler import C_\n",
    "from lcfats.classifiers import get_fitted_classifiers, evaluate_classifiers\n",
    "from flamingchoripan.cuteplots.cm_plots import plot_custom_confusion_matrix\n",
    "from flamingchoripan.datascience.statistics import XError\n",
    "import matplotlib.pyplot as plt\n",
    "\n",
    "max_model_ids = 50\n",
    "test_lcset_name = 'test'\n",
    "methods = ['linear', 'bspline', 'curvefit', 'uniformprior']\n",
    "for method in methods:\n",
    "    new_cfilename = f'{cfilename}_method-{method}'\n",
    "    filedir = f'{root_folder}/{new_cfilename}.{C_.EXT_SPLIT_LIGHTCURVE}'\n",
    "    lcdataset = load_lcdataset(filedir)\n",
    "    rf_results = {}\n",
    "    train_lcset_names = ['train+val', f'train+val.{method}', f'train+val.{method}']\n",
    "    remove_reals = [False for _ in train_lcset_names]\n",
    "    remove_reals[-1] = True\n",
    "    for train_lcset_name,remove_real in zip(train_lcset_names, remove_reals):\n",
    "        load_rootdir = f'../save/{survey}/{new_cfilename}/features'\n",
    "        fit_kwargs = {\n",
    "            'max_model_ids':max_model_ids,\n",
    "            'remove_real_samples':remove_real,\n",
    "        }\n",
    "        classifier_dict, model_ids = get_fitted_classifiers(lcdataset, train_lcset_name, load_rootdir, **fit_kwargs)\n",
    "        train_lcset_name = f'{train_lcset_name}{\"-only\" if remove_real else \"\"}'\n",
    "        rf_results[train_lcset_name] = evaluate_classifiers(lcdataset, test_lcset_name, classifier_dict, model_ids, load_rootdir)\n",
    "        \n",
    "        ### plot cms\n",
    "        d = rf_results[train_lcset_name]\n",
    "        lcset_name = d[model_ids[0]]['lcset_name']\n",
    "        class_names = d[model_ids[0]]['class_names']\n",
    "        cms = [d[id]['cm'][None] for id in model_ids]\n",
    "        f1score_xe = XError([d[id]['f1score'] for id in model_ids])\n",
    "        title = f'train set: {train_lcset_name} - evaluation set: {lcset_name}\\n'\n",
    "        title += f'b-f1score: {f1score_xe}'\n",
    "        cm_kwargs = {\n",
    "            'title':title,\n",
    "            'figsize':(6,5),\n",
    "            'new_order_classes':['SNIa', 'SNIbc', 'allSNII', 'SLSN'],\n",
    "        }\n",
    "        fig, ax = plot_custom_confusion_matrix(np.concatenate(cms, axis=0), class_names, **cm_kwargs)\n",
    "        plt.show()\n",
    "        \n",
    "        ### print rank\n",
    "        #print(classifier_dict[0]['rank'])\n",
    "        \n",
    "    save_filedir = f'../save/{survey}/{new_cfilename}/rf.res'\n",
    "    save_pickle(save_filedir, rf_results)"
   ]
  },
  {
   "cell_type": "code",
   "execution_count": null,
   "metadata": {},
   "outputs": [],
   "source": [
    "import numpy as np\n",
    "from flamingchoripan.files import load_pickle, save_pickle\n",
    "from flamingchoripan.datascience.statistics import XError\n",
    "import pandas as pd\n",
    "\n",
    "methods = ['linear', 'bspline', 'curvefit', 'uniformprior']\n",
    "info_dict = {}\n",
    "for km,method in enumerate(methods):\n",
    "    new_cfilename = f'{cfilename}_method-{method}'\n",
    "    load_filedir = f'../save/{survey}/{new_cfilename}/rf.res'\n",
    "    rf_results = load_pickle(load_filedir)\n",
    "    model_ids = list(rf_results['train+val'].keys())\n",
    "    d = {\n",
    "        'b-accu[%] | real':XError([rf_results[f'train+val'][id]['accu']*100 for id in model_ids]),\n",
    "        'b-f1score | real':XError([rf_results[f'train+val'][id]['f1score'] for id in model_ids]),\n",
    "        'b-accu[%] | synth':XError([rf_results[f'train+val.{method}-only'][id]['accu']*100 for id in model_ids]),\n",
    "        'b-f1score | synth':XError([rf_results[f'train+val.{method}-only'][id]['f1score'] for id in model_ids]),\n",
    "        'b-accu[%] | real+synth':XError([rf_results[f'train+val.{method}'][id]['accu']*100 for id in model_ids]),\n",
    "        'b-f1score | real+synth':XError([rf_results[f'train+val.{method}'][id]['f1score'] for id in model_ids]),\n",
    "    }\n",
    "    info_dict[f'method-{method}'] = d\n",
    "    \n",
    "info_df = pd.DataFrame.from_dict(info_dict, orient='index').reindex(list(info_dict.keys()))\n",
    "info_df = info_df.sort_values(by=['b-f1score | real+synth'])\n",
    "info_df['b-accu[%] | real'] = [v if k==0 else XError(None) for k,v in enumerate(info_df['b-accu[%] | real'].values)]\n",
    "info_df['b-f1score | real'] = [v if k==0 else XError(None) for k,v in enumerate(info_df['b-f1score | real'].values)]\n",
    "info_df"
   ]
  },
  {
   "cell_type": "code",
   "execution_count": null,
   "metadata": {},
   "outputs": [],
   "source": [
    "%load_ext autoreload\n",
    "%autoreload 2\n",
    "from flamingchoripan.latex.latex_tables import LatexTable\n",
    "\n",
    "latex_kwargs = {\n",
    "    'caption':'$x_j$',\n",
    "    'label':'???',\n",
    "    'bold_criteriums':'max',\n",
    "    'custom_tabular_align':'l|cc|cc|cc',\n",
    "}\n",
    "latex_table = LatexTable(info_df, **latex_kwargs)\n",
    "print(latex_table)"
   ]
  },
  {
   "cell_type": "code",
   "execution_count": null,
   "metadata": {},
   "outputs": [],
   "source": [
    "import numpy as np\n",
    "from flamingchoripan.files import load_pickle, save_pickle\n",
    "from flamingchoripan.datascience.statistics import XError\n",
    "import pandas as pd\n",
    "\n",
    "methods = ['linear', 'bspline', 'curvefit', 'uniformprior']\n",
    "info_dict = {}\n",
    "for km,method in enumerate(methods):\n",
    "    new_cfilename = f'{cfilename}_method-{method}'\n",
    "    load_filedir = f'../save/{survey}/{new_cfilename}/rf.res'\n",
    "    rf_results = load_pickle(load_filedir)\n",
    "    model_ids = list(rf_results['train+val'].keys())\n",
    "    info_dict[method] = rf_results['train+val'][model_ids[0]]['rank']\n",
    "    \n",
    "info_dict['curvefit']"
   ]
  }
 ],
 "metadata": {
  "kernelspec": {
   "display_name": "Python 3",
   "language": "python",
   "name": "python3"
  },
  "language_info": {
   "codemirror_mode": {
    "name": "ipython",
    "version": 3
   },
   "file_extension": ".py",
   "mimetype": "text/x-python",
   "name": "python",
   "nbconvert_exporter": "python",
   "pygments_lexer": "ipython3",
   "version": "3.7.9"
  }
 },
 "nbformat": 4,
 "nbformat_minor": 4
}
